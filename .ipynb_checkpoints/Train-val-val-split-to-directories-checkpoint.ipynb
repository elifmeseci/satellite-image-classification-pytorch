{
 "cells": [
  {
   "cell_type": "markdown",
   "id": "216bbb8c",
   "metadata": {},
   "source": [
    "# Splitting train val"
   ]
  },
  {
   "cell_type": "code",
   "execution_count": 64,
   "id": "7f87c485",
   "metadata": {},
   "outputs": [],
   "source": [
    "import os\n",
    "import numpy as np\n",
    "import shutil\n",
    "\n",
    "\n",
    "root_dir = 'D:/Rhaenessa/Github/pytorch-github/Satellite image Classification Dataset-RSI-CB256'\n",
    "\n",
    "# Classes names list\n",
    "yourclasses = ['cloudy','desert','green_area','water']\n",
    "\n",
    "# Creating Train / Val folders (One time use)\n",
    "for i in range(len(yourclasses)):\n",
    "    class1 = '/' + yourclasses[i]\n",
    "    os.makedirs(root_dir +'/splitted-data/train/' + yourclasses[i])\n",
    "    os.makedirs(root_dir +'/splitted-data/val/' + yourclasses[i])\n",
    "    os.makedirs(root_dir +'/splitted-data/test/' + yourclasses[i])"
   ]
  },
  {
   "cell_type": "code",
   "execution_count": 65,
   "id": "bdaa8756",
   "metadata": {},
   "outputs": [
    {
     "name": "stdout",
     "output_type": "stream",
     "text": [
      "Class:  cloudy\n",
      "Total images:  1500\n",
      "Training:  1050\n",
      "Validation:  225\n",
      "Testing:  225\n",
      "Class:  desert\n",
      "Total images:  1131\n",
      "Training:  791\n",
      "Validation:  170\n",
      "Testing:  170\n",
      "Class:  green_area\n",
      "Total images:  1500\n",
      "Training:  1050\n",
      "Validation:  225\n",
      "Testing:  225\n",
      "Class:  water\n",
      "Total images:  1500\n",
      "Training:  1050\n",
      "Validation:  225\n",
      "Testing:  225\n"
     ]
    }
   ],
   "source": [
    "for k in range(len(yourclasses)):\n",
    "    currentCls = yourclasses[k]\n",
    "    src = root_dir +\"/\"+currentCls # Folder to copy images from\n",
    "    print(\"Class: \",yourclasses[k])\n",
    "    allFileNames = os.listdir(src)\n",
    "    np.random.shuffle(allFileNames)\n",
    "    \n",
    "    # 0% train, 15% test, 15% validation \n",
    "    train_FileNames, val_FileNames, test_FileNames = np.split(np.array(allFileNames),\n",
    "                                                          [int(len(allFileNames)*0.7), int(len(allFileNames)*0.85)])\n",
    "\n",
    "\n",
    "    train_FileNames = [src+'/'+ name for name in train_FileNames.tolist()]\n",
    "    val_FileNames = [src+'/' + name for name in val_FileNames.tolist()]\n",
    "    test_FileNames = [src+'/' + name for name in test_FileNames.tolist()]\n",
    "\n",
    "    print('Total images: ', len(allFileNames))\n",
    "    print('Training: ', len(train_FileNames))\n",
    "    print('Validation: ', len(val_FileNames))\n",
    "    print('Testing: ', len(test_FileNames))\n",
    "    \n",
    "    # Copy-pasting images\n",
    "    for name in train_FileNames:\n",
    "        shutil.copy(name, root_dir +\"/splitted-data/train/\"+currentCls)\n",
    "    \n",
    "    for name in val_FileNames:\n",
    "        shutil.copy(name, root_dir +\"/splitted-data/val/\"+currentCls)\n",
    "        \n",
    "    for name in test_FileNames:\n",
    "        shutil.copy(name, root_dir +\"/splitted-data/test/\"+currentCls)    "
   ]
  }
 ],
 "metadata": {
  "kernelspec": {
   "display_name": "Python 3",
   "language": "python",
   "name": "python3"
  },
  "language_info": {
   "codemirror_mode": {
    "name": "ipython",
    "version": 3
   },
   "file_extension": ".py",
   "mimetype": "text/x-python",
   "name": "python",
   "nbconvert_exporter": "python",
   "pygments_lexer": "ipython3",
   "version": "3.6.15"
  }
 },
 "nbformat": 4,
 "nbformat_minor": 5
}
